{
 "cells": [
  {
   "cell_type": "markdown",
   "id": "d61710e5",
   "metadata": {},
   "source": [
    "# Pyspark GroupBy And Aggregate Functions"
   ]
  },
  {
   "cell_type": "code",
   "execution_count": 1,
   "id": "c2d5838c",
   "metadata": {},
   "outputs": [],
   "source": [
    "from pyspark.sql import SparkSession"
   ]
  },
  {
   "cell_type": "code",
   "execution_count": 2,
   "id": "832e1d5b",
   "metadata": {},
   "outputs": [],
   "source": [
    "spark = SparkSession.builder.appName('Agg').getOrCreate()"
   ]
  },
  {
   "cell_type": "code",
   "execution_count": 3,
   "id": "5b8fff0f",
   "metadata": {},
   "outputs": [
    {
     "data": {
      "text/html": [
       "\n",
       "            <div>\n",
       "                <p><b>SparkSession - in-memory</b></p>\n",
       "                \n",
       "        <div>\n",
       "            <p><b>SparkContext</b></p>\n",
       "\n",
       "            <p><a href=\"http://DESKTOP-JMU3F74:4040\">Spark UI</a></p>\n",
       "\n",
       "            <dl>\n",
       "              <dt>Version</dt>\n",
       "                <dd><code>v3.3.0</code></dd>\n",
       "              <dt>Master</dt>\n",
       "                <dd><code>local[*]</code></dd>\n",
       "              <dt>AppName</dt>\n",
       "                <dd><code>Agg</code></dd>\n",
       "            </dl>\n",
       "        </div>\n",
       "        \n",
       "            </div>\n",
       "        "
      ],
      "text/plain": [
       "<pyspark.sql.session.SparkSession at 0x21a24913dc0>"
      ]
     },
     "execution_count": 3,
     "metadata": {},
     "output_type": "execute_result"
    }
   ],
   "source": [
    "spark"
   ]
  },
  {
   "cell_type": "code",
   "execution_count": 4,
   "id": "b2e6ce5d",
   "metadata": {},
   "outputs": [],
   "source": [
    "df_pyspark = spark.read.csv('test4.csv', header=True, inferSchema=True)"
   ]
  },
  {
   "cell_type": "code",
   "execution_count": 5,
   "id": "ef714c6b",
   "metadata": {},
   "outputs": [
    {
     "name": "stdout",
     "output_type": "stream",
     "text": [
      "+-------+------------+------+\n",
      "|   name| departments|salary|\n",
      "+-------+------------+------+\n",
      "|Ajinkya|Data Science| 10000|\n",
      "|Ajinkya|         IOT|  5000|\n",
      "| Mahesh|    Big Data|  4000|\n",
      "|Ajinkya|    Big Data|  4000|\n",
      "| Mahesh|Data Science|  3000|\n",
      "| Nikhil|Data Science| 20000|\n",
      "| Nikhil|         IOT| 10000|\n",
      "| Nikhil|    Big Data|  5000|\n",
      "|  Sunny|Data Science| 10000|\n",
      "|  Sunny|    Big Data|  2000|\n",
      "+-------+------------+------+\n",
      "\n"
     ]
    }
   ],
   "source": [
    "df_pyspark.show()"
   ]
  },
  {
   "cell_type": "code",
   "execution_count": 7,
   "id": "e92b817c",
   "metadata": {},
   "outputs": [
    {
     "name": "stdout",
     "output_type": "stream",
     "text": [
      "root\n",
      " |--  name: string (nullable = true)\n",
      " |-- departments: string (nullable = true)\n",
      " |-- salary: integer (nullable = true)\n",
      "\n"
     ]
    }
   ],
   "source": [
    "df_pyspark.printSchema()"
   ]
  },
  {
   "cell_type": "code",
   "execution_count": 38,
   "id": "bc1b5981",
   "metadata": {},
   "outputs": [
    {
     "name": "stdout",
     "output_type": "stream",
     "text": [
      "+-------+------------------+\n",
      "|   name|       avg(salary)|\n",
      "+-------+------------------+\n",
      "|Ajinkya| 6333.333333333333|\n",
      "|  Sunny|            6000.0|\n",
      "| Nikhil|11666.666666666666|\n",
      "| Mahesh|            3500.0|\n",
      "+-------+------------------+\n",
      "\n"
     ]
    }
   ],
   "source": [
    "## Groupby\n",
    "from pyspark.sql.functions import col\n",
    "from pyspark.sql.types import FloatType\n",
    "df_pyspark.groupBy('name').agg({'salary':'mean'}).show()"
   ]
  },
  {
   "cell_type": "code",
   "execution_count": 99,
   "id": "78b5105f",
   "metadata": {},
   "outputs": [
    {
     "name": "stdout",
     "output_type": "stream",
     "text": [
      "+-------+---------+\n",
      "|   name|      sal|\n",
      "+-------+---------+\n",
      "|Ajinkya|6333.3335|\n",
      "|  Sunny|   6000.0|\n",
      "| Nikhil|11666.667|\n",
      "| Mahesh|   3500.0|\n",
      "+-------+---------+\n",
      "\n"
     ]
    }
   ],
   "source": [
    "df = df_pyspark.groupBy('name').agg({'salary':'mean'}).select(\"name\",col('avg(salary)').cast('float').alias('sal')) \n",
    "df.show()"
   ]
  },
  {
   "cell_type": "code",
   "execution_count": 108,
   "id": "6c302e06",
   "metadata": {},
   "outputs": [
    {
     "name": "stdout",
     "output_type": "stream",
     "text": [
      "root\n",
      " |-- name: string (nullable = true)\n",
      " |-- sal: float (nullable = true)\n",
      "\n"
     ]
    }
   ],
   "source": [
    "df.printSchema()"
   ]
  },
  {
   "cell_type": "code",
   "execution_count": 113,
   "id": "55c8c8a5",
   "metadata": {},
   "outputs": [
    {
     "name": "stdout",
     "output_type": "stream",
     "text": [
      "+-------+--------+\n",
      "|   name|     sal|\n",
      "+-------+--------+\n",
      "|Ajinkya| 6333.33|\n",
      "|  Sunny|  6000.0|\n",
      "| Nikhil|11666.67|\n",
      "| Mahesh|  3500.0|\n",
      "+-------+--------+\n",
      "\n"
     ]
    }
   ],
   "source": [
    "from pyspark.sql.functions import floor, col, round\n",
    "df.withColumn('sal', round('sal',2)).show()"
   ]
  },
  {
   "cell_type": "code",
   "execution_count": 8,
   "id": "0724aa84",
   "metadata": {},
   "outputs": [
    {
     "name": "stdout",
     "output_type": "stream",
     "text": [
      "+-------+-----------+\n",
      "|   name|sum(salary)|\n",
      "+-------+-----------+\n",
      "|Ajinkya|      19000|\n",
      "|  Sunny|      12000|\n",
      "| Nikhil|      35000|\n",
      "| Mahesh|       7000|\n",
      "+-------+-----------+\n",
      "\n"
     ]
    }
   ],
   "source": [
    "### grouped to find the maximum salary\n",
    "df_pyspark.groupBy('name').sum('salary').show()"
   ]
  },
  {
   "cell_type": "code",
   "execution_count": 10,
   "id": "4dc45952",
   "metadata": {},
   "outputs": [
    {
     "name": "stdout",
     "output_type": "stream",
     "text": [
      "+------------+-----------+\n",
      "| departments|max(salary)|\n",
      "+------------+-----------+\n",
      "|         IOT|      10000|\n",
      "|    Big Data|       5000|\n",
      "|Data Science|      20000|\n",
      "+------------+-----------+\n",
      "\n"
     ]
    }
   ],
   "source": [
    "### Gorup by Departments which give maximum salary to employee\n",
    "df_pyspark.groupBy('departments').max().show()"
   ]
  },
  {
   "cell_type": "code",
   "execution_count": 25,
   "id": "6247b2c9",
   "metadata": {},
   "outputs": [
    {
     "name": "stdout",
     "output_type": "stream",
     "text": [
      "+------------+-----+\n",
      "| departments|Total|\n",
      "+------------+-----+\n",
      "|Data Science|43000|\n",
      "|         IOT|15000|\n",
      "|    Big Data|15000|\n",
      "+------------+-----+\n",
      "\n"
     ]
    }
   ],
   "source": [
    "### Goup by departments and find total salary department wise\n",
    "from pyspark.sql.functions import col\n",
    "df_pyspark.groupBy('departments').sum('salary').withColumnRenamed('sum(salary)', 'Total').sort(col('sum(salary)').desc()).show()"
   ]
  },
  {
   "cell_type": "code",
   "execution_count": 5,
   "id": "2b42daa4",
   "metadata": {},
   "outputs": [
    {
     "name": "stdout",
     "output_type": "stream",
     "text": [
      "+------------+-----------+\n",
      "| departments|avg(salary)|\n",
      "+------------+-----------+\n",
      "|         IOT|     7500.0|\n",
      "|    Big Data|     3750.0|\n",
      "|Data Science|    10750.0|\n",
      "+------------+-----------+\n",
      "\n"
     ]
    }
   ],
   "source": [
    "### Mean Salary\n",
    "df_pyspark.groupBy('departments').mean('salary').show()"
   ]
  },
  {
   "cell_type": "code",
   "execution_count": 9,
   "id": "562f6ac2",
   "metadata": {},
   "outputs": [
    {
     "name": "stdout",
     "output_type": "stream",
     "text": [
      "+------------+-----+\n",
      "| departments|count|\n",
      "+------------+-----+\n",
      "|         IOT|    2|\n",
      "|    Big Data|    4|\n",
      "|Data Science|    4|\n",
      "+------------+-----+\n",
      "\n"
     ]
    }
   ],
   "source": [
    "### Number of employees in each department\n",
    "df_pyspark.groupBy('departments').count().show()"
   ]
  },
  {
   "cell_type": "code",
   "execution_count": 10,
   "id": "3a8d0865",
   "metadata": {},
   "outputs": [
    {
     "name": "stdout",
     "output_type": "stream",
     "text": [
      "+-----------+\n",
      "|sum(salary)|\n",
      "+-----------+\n",
      "|      73000|\n",
      "+-----------+\n",
      "\n"
     ]
    }
   ],
   "source": [
    "### Total expenditure\n",
    "df_pyspark.agg({'salary':'sum'}).show()"
   ]
  },
  {
   "cell_type": "code",
   "execution_count": 12,
   "id": "10617f35",
   "metadata": {},
   "outputs": [
    {
     "name": "stdout",
     "output_type": "stream",
     "text": [
      "+-------+-----------+\n",
      "|   name|max(salary)|\n",
      "+-------+-----------+\n",
      "|Ajinkya|      10000|\n",
      "|  Sunny|      10000|\n",
      "| Nikhil|      20000|\n",
      "| Mahesh|       4000|\n",
      "+-------+-----------+\n",
      "\n"
     ]
    }
   ],
   "source": [
    "### Employee getting max salary\n",
    "df_pyspark.groupBy('name').max().show()"
   ]
  },
  {
   "cell_type": "code",
   "execution_count": 13,
   "id": "6dc3a45f",
   "metadata": {},
   "outputs": [
    {
     "name": "stdout",
     "output_type": "stream",
     "text": [
      "+-------+-----------+\n",
      "|   name|min(salary)|\n",
      "+-------+-----------+\n",
      "|Ajinkya|       4000|\n",
      "|  Sunny|       2000|\n",
      "| Nikhil|       5000|\n",
      "| Mahesh|       3000|\n",
      "+-------+-----------+\n",
      "\n"
     ]
    }
   ],
   "source": [
    "df_pyspark.groupBy('name').min().show()"
   ]
  },
  {
   "cell_type": "code",
   "execution_count": 6,
   "id": "44aed6f7",
   "metadata": {},
   "outputs": [
    {
     "name": "stdout",
     "output_type": "stream",
     "text": [
      "+-------+------------------+\n",
      "|   name|       avg(salary)|\n",
      "+-------+------------------+\n",
      "|Ajinkya| 6333.333333333333|\n",
      "|  Sunny|            6000.0|\n",
      "| Nikhil|11666.666666666666|\n",
      "| Mahesh|            3500.0|\n",
      "+-------+------------------+\n",
      "\n"
     ]
    }
   ],
   "source": [
    "df_pyspark.groupBy('name').avg().show()"
   ]
  },
  {
   "cell_type": "code",
   "execution_count": null,
   "id": "24dd32bc",
   "metadata": {},
   "outputs": [],
   "source": []
  }
 ],
 "metadata": {
  "kernelspec": {
   "display_name": "Python 3 (ipykernel)",
   "language": "python",
   "name": "python3"
  },
  "language_info": {
   "codemirror_mode": {
    "name": "ipython",
    "version": 3
   },
   "file_extension": ".py",
   "mimetype": "text/x-python",
   "name": "python",
   "nbconvert_exporter": "python",
   "pygments_lexer": "ipython3",
   "version": "3.9.12"
  }
 },
 "nbformat": 4,
 "nbformat_minor": 5
}
