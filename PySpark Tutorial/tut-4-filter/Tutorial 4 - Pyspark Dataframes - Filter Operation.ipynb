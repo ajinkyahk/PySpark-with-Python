{
 "cells": [
  {
   "cell_type": "markdown",
   "id": "c91319b3",
   "metadata": {},
   "source": [
    "## Pyspark Datafrmes\n",
    "- Filter Operation\n",
    "- &, |, ==\n",
    "- ~\n"
   ]
  },
  {
   "cell_type": "code",
   "execution_count": 1,
   "id": "7030c2c1",
   "metadata": {},
   "outputs": [],
   "source": [
    "from pyspark.sql import SparkSession"
   ]
  },
  {
   "cell_type": "code",
   "execution_count": 2,
   "id": "f97c48ec",
   "metadata": {},
   "outputs": [],
   "source": [
    "spark = SparkSession.builder.appName('dataframe').getOrCreate()"
   ]
  },
  {
   "cell_type": "code",
   "execution_count": 5,
   "id": "50c2ec63",
   "metadata": {},
   "outputs": [],
   "source": [
    "df_pyspark = spark.read.csv('test3.csv', header=True, inferSchema=True)"
   ]
  },
  {
   "cell_type": "code",
   "execution_count": 6,
   "id": "10f40b82",
   "metadata": {},
   "outputs": [
    {
     "name": "stdout",
     "output_type": "stream",
     "text": [
      "+-------+---+----------+------+\n",
      "|   name|age|experience|salary|\n",
      "+-------+---+----------+------+\n",
      "|Ajinkya| 32|        10| 30000|\n",
      "|  Anish| 30|         8| 25000|\n",
      "| Nikhil| 29|         4| 20000|\n",
      "| Hitesh| 24|         3| 20000|\n",
      "|  Onkar| 21|         1| 15000|\n",
      "|  Ketan| 23|         2| 18000|\n",
      "+-------+---+----------+------+\n",
      "\n"
     ]
    }
   ],
   "source": [
    "df_pyspark.show()"
   ]
  },
  {
   "cell_type": "markdown",
   "id": "e5dffc19",
   "metadata": {},
   "source": [
    "### Filter Operations"
   ]
  },
  {
   "cell_type": "code",
   "execution_count": 8,
   "id": "002d4d4c",
   "metadata": {},
   "outputs": [
    {
     "name": "stdout",
     "output_type": "stream",
     "text": [
      "+------+---+----------+------+\n",
      "|  name|age|experience|salary|\n",
      "+------+---+----------+------+\n",
      "|Nikhil| 29|         4| 20000|\n",
      "|Hitesh| 24|         3| 20000|\n",
      "| Onkar| 21|         1| 15000|\n",
      "| Ketan| 23|         2| 18000|\n",
      "+------+---+----------+------+\n",
      "\n"
     ]
    }
   ],
   "source": [
    "### Salary of the people less than or equal to 20000\n",
    "df_pyspark.filter('salary <= 20000').show()"
   ]
  },
  {
   "cell_type": "code",
   "execution_count": 10,
   "id": "0b04d0c6",
   "metadata": {},
   "outputs": [
    {
     "data": {
      "text/plain": [
       "[Row(name='Ajinkya', age=32, experience=10, salary=30000),\n",
       " Row(name='Anish', age=30, experience=8, salary=25000),\n",
       " Row(name='Nikhil', age=29, experience=4, salary=20000)]"
      ]
     },
     "execution_count": 10,
     "metadata": {},
     "output_type": "execute_result"
    }
   ],
   "source": [
    "df_pyspark.filter(df_pyspark.age > 25).collect()"
   ]
  },
  {
   "cell_type": "code",
   "execution_count": 11,
   "id": "5fa3f094",
   "metadata": {},
   "outputs": [
    {
     "data": {
      "text/plain": [
       "[Row(name='Ajinkya', age=32, experience=10, salary=30000),\n",
       " Row(name='Anish', age=30, experience=8, salary=25000)]"
      ]
     },
     "execution_count": 11,
     "metadata": {},
     "output_type": "execute_result"
    }
   ],
   "source": [
    "df_pyspark.where(df_pyspark.experience > 5).collect()"
   ]
  },
  {
   "cell_type": "code",
   "execution_count": 12,
   "id": "a9816804",
   "metadata": {},
   "outputs": [
    {
     "name": "stdout",
     "output_type": "stream",
     "text": [
      "+------+---+----------+------+\n",
      "|  name|age|experience|salary|\n",
      "+------+---+----------+------+\n",
      "| Anish| 30|         8| 25000|\n",
      "|Nikhil| 29|         4| 20000|\n",
      "|Hitesh| 24|         3| 20000|\n",
      "| Onkar| 21|         1| 15000|\n",
      "| Ketan| 23|         2| 18000|\n",
      "+------+---+----------+------+\n",
      "\n"
     ]
    }
   ],
   "source": [
    "df_pyspark.where('age <= 30').show()"
   ]
  },
  {
   "cell_type": "code",
   "execution_count": 13,
   "id": "17858c93",
   "metadata": {},
   "outputs": [
    {
     "name": "stdout",
     "output_type": "stream",
     "text": [
      "+-------+---+\n",
      "|   name|age|\n",
      "+-------+---+\n",
      "|Ajinkya| 32|\n",
      "|  Anish| 30|\n",
      "+-------+---+\n",
      "\n"
     ]
    }
   ],
   "source": [
    "df_pyspark.filter('salary > 20000').select(['name', 'age']).show()"
   ]
  },
  {
   "cell_type": "code",
   "execution_count": 14,
   "id": "51a7db96",
   "metadata": {},
   "outputs": [
    {
     "name": "stdout",
     "output_type": "stream",
     "text": [
      "+-------+---+----------+------+\n",
      "|   name|age|experience|salary|\n",
      "+-------+---+----------+------+\n",
      "|Ajinkya| 32|        10| 30000|\n",
      "|  Anish| 30|         8| 25000|\n",
      "| Nikhil| 29|         4| 20000|\n",
      "| Hitesh| 24|         3| 20000|\n",
      "+-------+---+----------+------+\n",
      "\n"
     ]
    }
   ],
   "source": [
    "df_pyspark.filter(df_pyspark['salary'] >= 20000).show()"
   ]
  },
  {
   "cell_type": "code",
   "execution_count": 15,
   "id": "e266df00",
   "metadata": {},
   "outputs": [
    {
     "name": "stdout",
     "output_type": "stream",
     "text": [
      "+------+---+----------+------+\n",
      "|  name|age|experience|salary|\n",
      "+------+---+----------+------+\n",
      "| Anish| 30|         8| 25000|\n",
      "|Nikhil| 29|         4| 20000|\n",
      "|Hitesh| 24|         3| 20000|\n",
      "+------+---+----------+------+\n",
      "\n"
     ]
    }
   ],
   "source": [
    "df_pyspark.filter((df_pyspark['salary'] >= 20000 ) & (df_pyspark.age <=30)).show()"
   ]
  },
  {
   "cell_type": "code",
   "execution_count": 16,
   "id": "8009f1b4",
   "metadata": {},
   "outputs": [
    {
     "name": "stdout",
     "output_type": "stream",
     "text": [
      "+-------+---+----------+------+\n",
      "|   name|age|experience|salary|\n",
      "+-------+---+----------+------+\n",
      "|Ajinkya| 32|        10| 30000|\n",
      "|  Anish| 30|         8| 25000|\n",
      "| Nikhil| 29|         4| 20000|\n",
      "| Hitesh| 24|         3| 20000|\n",
      "|  Onkar| 21|         1| 15000|\n",
      "|  Ketan| 23|         2| 18000|\n",
      "+-------+---+----------+------+\n",
      "\n"
     ]
    }
   ],
   "source": [
    "df_pyspark.filter((df_pyspark['salary'] >= 20000 ) | (df_pyspark.age <=30)).show()"
   ]
  },
  {
   "cell_type": "code",
   "execution_count": 28,
   "id": "8c77180c",
   "metadata": {},
   "outputs": [
    {
     "name": "stdout",
     "output_type": "stream",
     "text": [
      "+-------+---+----------+------+\n",
      "|   name|age|experience|salary|\n",
      "+-------+---+----------+------+\n",
      "|Ajinkya| 32|        10| 30000|\n",
      "|  Anish| 30|         8| 25000|\n",
      "+-------+---+----------+------+\n",
      "\n"
     ]
    }
   ],
   "source": [
    "df_pyspark.filter(f'age > 29 and salary >20000').show()"
   ]
  },
  {
   "cell_type": "code",
   "execution_count": 30,
   "id": "5c2a7f0e",
   "metadata": {},
   "outputs": [
    {
     "name": "stdout",
     "output_type": "stream",
     "text": [
      "+------+---+----------+------+\n",
      "|  name|age|experience|salary|\n",
      "+------+---+----------+------+\n",
      "|Hitesh| 24|         3| 20000|\n",
      "| Onkar| 21|         1| 15000|\n",
      "| Ketan| 23|         2| 18000|\n",
      "+------+---+----------+------+\n",
      "\n"
     ]
    }
   ],
   "source": [
    "df_pyspark.filter('salary < 20000 or age < 29').show()"
   ]
  },
  {
   "cell_type": "code",
   "execution_count": 39,
   "id": "61061c5d",
   "metadata": {},
   "outputs": [
    {
     "name": "stdout",
     "output_type": "stream",
     "text": [
      "+------+---+----------+------+\n",
      "|  name|age|experience|salary|\n",
      "+------+---+----------+------+\n",
      "|Hitesh| 24|         3| 20000|\n",
      "| Onkar| 21|         1| 15000|\n",
      "| Ketan| 23|         2| 18000|\n",
      "+------+---+----------+------+\n",
      "\n"
     ]
    }
   ],
   "source": [
    "df_pyspark.filter('''not (salary >= 20000 and age >= 27)''').show()"
   ]
  },
  {
   "cell_type": "code",
   "execution_count": 40,
   "id": "70cd8157",
   "metadata": {},
   "outputs": [
    {
     "name": "stdout",
     "output_type": "stream",
     "text": [
      "+-------+---+----------+------+\n",
      "|   name|age|experience|salary|\n",
      "+-------+---+----------+------+\n",
      "|Ajinkya| 32|        10| 30000|\n",
      "|  Anish| 30|         8| 25000|\n",
      "| Nikhil| 29|         4| 20000|\n",
      "+-------+---+----------+------+\n",
      "\n"
     ]
    }
   ],
   "source": [
    "df_pyspark.filter('''(salary >= 20000 and age >= 27)''').show()"
   ]
  },
  {
   "cell_type": "code",
   "execution_count": null,
   "id": "1b53e57b",
   "metadata": {},
   "outputs": [],
   "source": []
  },
  {
   "cell_type": "code",
   "execution_count": null,
   "id": "57fe9fca",
   "metadata": {},
   "outputs": [],
   "source": []
  }
 ],
 "metadata": {
  "kernelspec": {
   "display_name": "Python 3 (ipykernel)",
   "language": "python",
   "name": "python3"
  },
  "language_info": {
   "codemirror_mode": {
    "name": "ipython",
    "version": 3
   },
   "file_extension": ".py",
   "mimetype": "text/x-python",
   "name": "python",
   "nbconvert_exporter": "python",
   "pygments_lexer": "ipython3",
   "version": "3.9.12"
  }
 },
 "nbformat": 4,
 "nbformat_minor": 5
}
